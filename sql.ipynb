{
 "cells": [
  {
   "cell_type": "code",
   "execution_count": 3,
   "metadata": {},
   "outputs": [],
   "source": [
    "import pandas as pd\n",
    "import glob\n",
    "import time"
   ]
  },
  {
   "cell_type": "code",
   "execution_count": 24,
   "metadata": {},
   "outputs": [],
   "source": [
    "\n",
    "path = \"C:\\\\Users\\\\Admin\\\\Desktop\\\\selenium\\\\\"\n",
    "\n",
    "csv_files = glob.glob(path + \"*.csv\")\n",
    "\n",
    "dfs = []\n",
    "\n",
    "for file in csv_files:\n",
    "    df = pd.read_csv(file)\n",
    "    dfs.append(df)\n",
    "\n",
    "\n",
    "merged_df = pd.concat(dfs, ignore_index=True)\n",
    "\n",
    "df=pd.DataFrame(merged_df)\n",
    "\n",
    "df.drop(columns=\"Unnamed: 0\",inplace=True)\n",
    "\n",
    "df.to_csv(\"Red_Bus.csv\",index=False)\n",
    "\n",
    "df = pd.read_csv(\"Red_Bus.csv\")"
   ]
  },
  {
   "cell_type": "code",
   "execution_count": 11,
   "metadata": {},
   "outputs": [],
   "source": [
    "import mysql.connector\n",
    "\n",
    "# Establish the database connection\n",
    "conn = mysql.connector.connect(\n",
    "    host=\"localhost\",\n",
    "    user=\"root\",\n",
    "    password=\"Vasu@3003\",\n",
    "    database=\"bus_info\"\n",
    ")\n",
    "\n",
    "# Create a cursor object\n",
    "cursor = conn.cursor()\n",
    "\n",
    "# Define the SQL statement to create the table\n",
    "create_table_query = \"\"\"\n",
    "CREATE TABLE IF NOT EXISTS Routes (\n",
    "    id INT AUTO_INCREMENT PRIMARY KEY,\n",
    "    State TEXT NOT NULL,\n",
    "    route_name TEXT NOT NULL,\n",
    "    route_link TEXT NOT NULL,\n",
    "    busname TEXT NOT NULL,\n",
    "    bustype TEXT NOT NULL,\n",
    "    departing_time TIME NOT NULL,\n",
    "    duration TEXT NOT NULL,\n",
    "    reaching_time TIME NOT NULL,\n",
    "    star_rating FLOAT NOT NULL,\n",
    "    price DECIMAL(10, 2) NOT NULL,\n",
    "    seats_available INT NOT NULL\n",
    ")\n",
    "\"\"\"\n",
    "\n",
    "# Execute the SQL statement to create the table\n",
    "cursor.execute(create_table_query)\n",
    "\n",
    "# Define the SQL statement to insert values\n",
    "insert_query = \"\"\"\n",
    "INSERT INTO Routes (State,route_name, route_link, busname, bustype, departing_time, duration, reaching_time, star_rating, price, seats_available)\n",
    "VALUES (%s,%s, %s, %s, %s, %s, %s, %s, %s, %s, %s)\n",
    "\"\"\"\n",
    "\n",
    "for index, row in (df.iterrows()):\n",
    "    cursor.execute(insert_query,(row[\"State_Name\"],row[\"Route_Name\"],row[\"Route_Link\"],row[\"Bus_Name\"],\n",
    "                           row[\"Bus_Type\"],row[\"Departing_Time\"],row[\"Duration\"],row[\"Reaching_Time\"],\n",
    "                           row[\"Star_Rating\"],row[\"Price\"],row[\"Seats_Available\"]))\n",
    "    conn.commit()\n",
    "\n",
    "conn.commit()\n",
    "\n"
   ]
  }
 ],
 "metadata": {
  "kernelspec": {
   "display_name": "Python 3",
   "language": "python",
   "name": "python3"
  },
  "language_info": {
   "codemirror_mode": {
    "name": "ipython",
    "version": 3
   },
   "file_extension": ".py",
   "mimetype": "text/x-python",
   "name": "python",
   "nbconvert_exporter": "python",
   "pygments_lexer": "ipython3",
   "version": "3.12.4"
  }
 },
 "nbformat": 4,
 "nbformat_minor": 2
}
